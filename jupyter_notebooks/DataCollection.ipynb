{
  "cells": [
    {
      "cell_type": "markdown",
      "metadata": {
        "id": "0aStgWSO0E0E"
      },
      "source": [
        "# **Data Collection Notebook**\n"
      ]
    },
    {
      "cell_type": "markdown",
      "metadata": {
        "id": "1eLEkw5O0ECa"
      },
      "source": [
        "## Objectives\n",
        "\n",
        "* Fetch data from Kaggle and prepare it for further processes\n",
        "\n",
        "## Inputs\n",
        "\n",
        "* Kaggle JSON file - the authentication token\n",
        "\n",
        "## Outputs\n",
        "\n",
        "* Generate Dataset: inputs/datasets/cherry_leaves_dataset\n",
        "\n",
        "## Additional Comments\n",
        "\n",
        "* No additional comments \n",
        "\n"
      ]
    },
    {
      "cell_type": "markdown",
      "metadata": {
        "id": "9uWZXH9LwoQg"
      },
      "source": [
        "---"
      ]
    },
    {
      "cell_type": "markdown",
      "metadata": {},
      "source": [
        "# Import packages"
      ]
    },
    {
      "cell_type": "code",
      "execution_count": 1,
      "metadata": {},
      "outputs": [
        {
          "name": "stdout",
          "output_type": "stream",
          "text": [
            "Requirement already satisfied: numpy==1.26.1 in /home/cistudent/.local/lib/python3.12/site-packages (from -r /workspaces/milestone-project-mildew-detection-in-cherry-leaves/requirements.txt (line 1)) (1.26.1)\n",
            "Requirement already satisfied: pandas==2.1.1 in /home/cistudent/.local/lib/python3.12/site-packages (from -r /workspaces/milestone-project-mildew-detection-in-cherry-leaves/requirements.txt (line 2)) (2.1.1)\n",
            "Requirement already satisfied: matplotlib==3.8.0 in /home/cistudent/.local/lib/python3.12/site-packages (from -r /workspaces/milestone-project-mildew-detection-in-cherry-leaves/requirements.txt (line 3)) (3.8.0)\n",
            "Requirement already satisfied: seaborn==0.13.2 in /home/cistudent/.local/lib/python3.12/site-packages (from -r /workspaces/milestone-project-mildew-detection-in-cherry-leaves/requirements.txt (line 4)) (0.13.2)\n",
            "Requirement already satisfied: plotly==5.17.0 in /home/cistudent/.local/lib/python3.12/site-packages (from -r /workspaces/milestone-project-mildew-detection-in-cherry-leaves/requirements.txt (line 5)) (5.17.0)\n",
            "Requirement already satisfied: Pillow==10.0.1 in /home/cistudent/.local/lib/python3.12/site-packages (from -r /workspaces/milestone-project-mildew-detection-in-cherry-leaves/requirements.txt (line 6)) (10.0.1)\n",
            "Requirement already satisfied: streamlit==1.40.2 in /home/cistudent/.local/lib/python3.12/site-packages (from -r /workspaces/milestone-project-mildew-detection-in-cherry-leaves/requirements.txt (line 7)) (1.40.2)\n",
            "Requirement already satisfied: joblib==1.4.2 in /home/cistudent/.local/lib/python3.12/site-packages (from -r /workspaces/milestone-project-mildew-detection-in-cherry-leaves/requirements.txt (line 8)) (1.4.2)\n",
            "Requirement already satisfied: scikit-learn==1.3.1 in /home/cistudent/.local/lib/python3.12/site-packages (from -r /workspaces/milestone-project-mildew-detection-in-cherry-leaves/requirements.txt (line 9)) (1.3.1)\n",
            "Requirement already satisfied: tensorflow-cpu==2.16.1 in /home/cistudent/.local/lib/python3.12/site-packages (from -r /workspaces/milestone-project-mildew-detection-in-cherry-leaves/requirements.txt (line 10)) (2.16.1)\n",
            "Requirement already satisfied: keras>=3.0.0 in /home/cistudent/.local/lib/python3.12/site-packages (from -r /workspaces/milestone-project-mildew-detection-in-cherry-leaves/requirements.txt (line 11)) (3.9.2)\n",
            "Requirement already satisfied: python-dateutil>=2.8.2 in /home/cistudent/.pyenv/versions/3.12.1/lib/python3.12/site-packages (from pandas==2.1.1->-r /workspaces/milestone-project-mildew-detection-in-cherry-leaves/requirements.txt (line 2)) (2.9.0.post0)\n",
            "Requirement already satisfied: pytz>=2020.1 in /home/cistudent/.local/lib/python3.12/site-packages (from pandas==2.1.1->-r /workspaces/milestone-project-mildew-detection-in-cherry-leaves/requirements.txt (line 2)) (2025.2)\n",
            "Requirement already satisfied: tzdata>=2022.1 in /home/cistudent/.local/lib/python3.12/site-packages (from pandas==2.1.1->-r /workspaces/milestone-project-mildew-detection-in-cherry-leaves/requirements.txt (line 2)) (2025.2)\n",
            "Requirement already satisfied: contourpy>=1.0.1 in /home/cistudent/.local/lib/python3.12/site-packages (from matplotlib==3.8.0->-r /workspaces/milestone-project-mildew-detection-in-cherry-leaves/requirements.txt (line 3)) (1.3.2)\n",
            "Requirement already satisfied: cycler>=0.10 in /home/cistudent/.local/lib/python3.12/site-packages (from matplotlib==3.8.0->-r /workspaces/milestone-project-mildew-detection-in-cherry-leaves/requirements.txt (line 3)) (0.12.1)\n",
            "Requirement already satisfied: fonttools>=4.22.0 in /home/cistudent/.local/lib/python3.12/site-packages (from matplotlib==3.8.0->-r /workspaces/milestone-project-mildew-detection-in-cherry-leaves/requirements.txt (line 3)) (4.57.0)\n",
            "Requirement already satisfied: kiwisolver>=1.0.1 in /home/cistudent/.local/lib/python3.12/site-packages (from matplotlib==3.8.0->-r /workspaces/milestone-project-mildew-detection-in-cherry-leaves/requirements.txt (line 3)) (1.4.8)\n",
            "Requirement already satisfied: packaging>=20.0 in /home/cistudent/.pyenv/versions/3.12.1/lib/python3.12/site-packages (from matplotlib==3.8.0->-r /workspaces/milestone-project-mildew-detection-in-cherry-leaves/requirements.txt (line 3)) (24.2)\n",
            "Requirement already satisfied: pyparsing>=2.3.1 in /home/cistudent/.local/lib/python3.12/site-packages (from matplotlib==3.8.0->-r /workspaces/milestone-project-mildew-detection-in-cherry-leaves/requirements.txt (line 3)) (3.2.3)\n",
            "Requirement already satisfied: tenacity>=6.2.0 in /home/cistudent/.local/lib/python3.12/site-packages (from plotly==5.17.0->-r /workspaces/milestone-project-mildew-detection-in-cherry-leaves/requirements.txt (line 5)) (9.1.2)\n",
            "Requirement already satisfied: altair<6,>=4.0 in /home/cistudent/.local/lib/python3.12/site-packages (from streamlit==1.40.2->-r /workspaces/milestone-project-mildew-detection-in-cherry-leaves/requirements.txt (line 7)) (5.5.0)\n",
            "Requirement already satisfied: blinker<2,>=1.0.0 in /home/cistudent/.local/lib/python3.12/site-packages (from streamlit==1.40.2->-r /workspaces/milestone-project-mildew-detection-in-cherry-leaves/requirements.txt (line 7)) (1.9.0)\n",
            "Requirement already satisfied: cachetools<6,>=4.0 in /home/cistudent/.local/lib/python3.12/site-packages (from streamlit==1.40.2->-r /workspaces/milestone-project-mildew-detection-in-cherry-leaves/requirements.txt (line 7)) (5.5.2)\n",
            "Requirement already satisfied: click<9,>=7.0 in /home/cistudent/.local/lib/python3.12/site-packages (from streamlit==1.40.2->-r /workspaces/milestone-project-mildew-detection-in-cherry-leaves/requirements.txt (line 7)) (8.1.8)\n",
            "Requirement already satisfied: protobuf<6,>=3.20 in /home/cistudent/.local/lib/python3.12/site-packages (from streamlit==1.40.2->-r /workspaces/milestone-project-mildew-detection-in-cherry-leaves/requirements.txt (line 7)) (4.25.7)\n",
            "Requirement already satisfied: pyarrow>=7.0 in /home/cistudent/.local/lib/python3.12/site-packages (from streamlit==1.40.2->-r /workspaces/milestone-project-mildew-detection-in-cherry-leaves/requirements.txt (line 7)) (19.0.1)\n",
            "Requirement already satisfied: requests<3,>=2.27 in /home/cistudent/.pyenv/versions/3.12.1/lib/python3.12/site-packages (from streamlit==1.40.2->-r /workspaces/milestone-project-mildew-detection-in-cherry-leaves/requirements.txt (line 7)) (2.32.3)\n",
            "Requirement already satisfied: rich<14,>=10.14.0 in /home/cistudent/.pyenv/versions/3.12.1/lib/python3.12/site-packages (from streamlit==1.40.2->-r /workspaces/milestone-project-mildew-detection-in-cherry-leaves/requirements.txt (line 7)) (13.9.4)\n",
            "Requirement already satisfied: toml<2,>=0.10.1 in /home/cistudent/.local/lib/python3.12/site-packages (from streamlit==1.40.2->-r /workspaces/milestone-project-mildew-detection-in-cherry-leaves/requirements.txt (line 7)) (0.10.2)\n",
            "Requirement already satisfied: typing-extensions<5,>=4.3.0 in /home/cistudent/.pyenv/versions/3.12.1/lib/python3.12/site-packages (from streamlit==1.40.2->-r /workspaces/milestone-project-mildew-detection-in-cherry-leaves/requirements.txt (line 7)) (4.12.2)\n",
            "Requirement already satisfied: watchdog<7,>=2.1.5 in /home/cistudent/.local/lib/python3.12/site-packages (from streamlit==1.40.2->-r /workspaces/milestone-project-mildew-detection-in-cherry-leaves/requirements.txt (line 7)) (6.0.0)\n",
            "Requirement already satisfied: gitpython!=3.1.19,<4,>=3.0.7 in /home/cistudent/.local/lib/python3.12/site-packages (from streamlit==1.40.2->-r /workspaces/milestone-project-mildew-detection-in-cherry-leaves/requirements.txt (line 7)) (3.1.44)\n",
            "Requirement already satisfied: pydeck<1,>=0.8.0b4 in /home/cistudent/.local/lib/python3.12/site-packages (from streamlit==1.40.2->-r /workspaces/milestone-project-mildew-detection-in-cherry-leaves/requirements.txt (line 7)) (0.9.1)\n"
          ]
        },
        {
          "name": "stdout",
          "output_type": "stream",
          "text": [
            "Requirement already satisfied: tornado<7,>=6.0.3 in /home/cistudent/.pyenv/versions/3.12.1/lib/python3.12/site-packages (from streamlit==1.40.2->-r /workspaces/milestone-project-mildew-detection-in-cherry-leaves/requirements.txt (line 7)) (6.4.2)\n",
            "Requirement already satisfied: scipy>=1.5.0 in /home/cistudent/.local/lib/python3.12/site-packages (from scikit-learn==1.3.1->-r /workspaces/milestone-project-mildew-detection-in-cherry-leaves/requirements.txt (line 9)) (1.15.2)\n",
            "Requirement already satisfied: threadpoolctl>=2.0.0 in /home/cistudent/.local/lib/python3.12/site-packages (from scikit-learn==1.3.1->-r /workspaces/milestone-project-mildew-detection-in-cherry-leaves/requirements.txt (line 9)) (3.6.0)\n",
            "Requirement already satisfied: absl-py>=1.0.0 in /home/cistudent/.local/lib/python3.12/site-packages (from tensorflow-cpu==2.16.1->-r /workspaces/milestone-project-mildew-detection-in-cherry-leaves/requirements.txt (line 10)) (2.2.2)\n",
            "Requirement already satisfied: astunparse>=1.6.0 in /home/cistudent/.local/lib/python3.12/site-packages (from tensorflow-cpu==2.16.1->-r /workspaces/milestone-project-mildew-detection-in-cherry-leaves/requirements.txt (line 10)) (1.6.3)\n",
            "Requirement already satisfied: flatbuffers>=23.5.26 in /home/cistudent/.local/lib/python3.12/site-packages (from tensorflow-cpu==2.16.1->-r /workspaces/milestone-project-mildew-detection-in-cherry-leaves/requirements.txt (line 10)) (25.2.10)\n",
            "Requirement already satisfied: gast!=0.5.0,!=0.5.1,!=0.5.2,>=0.2.1 in /home/cistudent/.local/lib/python3.12/site-packages (from tensorflow-cpu==2.16.1->-r /workspaces/milestone-project-mildew-detection-in-cherry-leaves/requirements.txt (line 10)) (0.6.0)\n",
            "Requirement already satisfied: google-pasta>=0.1.1 in /home/cistudent/.local/lib/python3.12/site-packages (from tensorflow-cpu==2.16.1->-r /workspaces/milestone-project-mildew-detection-in-cherry-leaves/requirements.txt (line 10)) (0.2.0)\n",
            "Requirement already satisfied: h5py>=3.10.0 in /home/cistudent/.local/lib/python3.12/site-packages (from tensorflow-cpu==2.16.1->-r /workspaces/milestone-project-mildew-detection-in-cherry-leaves/requirements.txt (line 10)) (3.13.0)\n",
            "Requirement already satisfied: libclang>=13.0.0 in /home/cistudent/.local/lib/python3.12/site-packages (from tensorflow-cpu==2.16.1->-r /workspaces/milestone-project-mildew-detection-in-cherry-leaves/requirements.txt (line 10)) (18.1.1)\n",
            "Requirement already satisfied: ml-dtypes~=0.3.1 in /home/cistudent/.local/lib/python3.12/site-packages (from tensorflow-cpu==2.16.1->-r /workspaces/milestone-project-mildew-detection-in-cherry-leaves/requirements.txt (line 10)) (0.3.2)\n",
            "Requirement already satisfied: opt-einsum>=2.3.2 in /home/cistudent/.local/lib/python3.12/site-packages (from tensorflow-cpu==2.16.1->-r /workspaces/milestone-project-mildew-detection-in-cherry-leaves/requirements.txt (line 10)) (3.4.0)\n",
            "Requirement already satisfied: setuptools in /home/cistudent/.pyenv/versions/3.12.1/lib/python3.12/site-packages (from tensorflow-cpu==2.16.1->-r /workspaces/milestone-project-mildew-detection-in-cherry-leaves/requirements.txt (line 10)) (75.6.0)\n",
            "Requirement already satisfied: six>=1.12.0 in /home/cistudent/.pyenv/versions/3.12.1/lib/python3.12/site-packages (from tensorflow-cpu==2.16.1->-r /workspaces/milestone-project-mildew-detection-in-cherry-leaves/requirements.txt (line 10)) (1.17.0)\n",
            "Requirement already satisfied: termcolor>=1.1.0 in /home/cistudent/.local/lib/python3.12/site-packages (from tensorflow-cpu==2.16.1->-r /workspaces/milestone-project-mildew-detection-in-cherry-leaves/requirements.txt (line 10)) (3.0.1)\n",
            "Requirement already satisfied: wrapt>=1.11.0 in /home/cistudent/.local/lib/python3.12/site-packages (from tensorflow-cpu==2.16.1->-r /workspaces/milestone-project-mildew-detection-in-cherry-leaves/requirements.txt (line 10)) (1.17.2)\n",
            "Requirement already satisfied: grpcio<2.0,>=1.24.3 in /home/cistudent/.local/lib/python3.12/site-packages (from tensorflow-cpu==2.16.1->-r /workspaces/milestone-project-mildew-detection-in-cherry-leaves/requirements.txt (line 10)) (1.71.0)\n",
            "Requirement already satisfied: tensorboard<2.17,>=2.16 in /home/cistudent/.local/lib/python3.12/site-packages (from tensorflow-cpu==2.16.1->-r /workspaces/milestone-project-mildew-detection-in-cherry-leaves/requirements.txt (line 10)) (2.16.2)\n",
            "Requirement already satisfied: jinja2 in /home/cistudent/.pyenv/versions/3.12.1/lib/python3.12/site-packages (from altair<6,>=4.0->streamlit==1.40.2->-r /workspaces/milestone-project-mildew-detection-in-cherry-leaves/requirements.txt (line 7)) (3.1.4)\n",
            "Requirement already satisfied: jsonschema>=3.0 in /home/cistudent/.pyenv/versions/3.12.1/lib/python3.12/site-packages (from altair<6,>=4.0->streamlit==1.40.2->-r /workspaces/milestone-project-mildew-detection-in-cherry-leaves/requirements.txt (line 7)) (4.23.0)\n",
            "Requirement already satisfied: narwhals>=1.14.2 in /home/cistudent/.local/lib/python3.12/site-packages (from altair<6,>=4.0->streamlit==1.40.2->-r /workspaces/milestone-project-mildew-detection-in-cherry-leaves/requirements.txt (line 7)) (1.36.0)\n",
            "Requirement already satisfied: gitdb<5,>=4.0.1 in /home/cistudent/.local/lib/python3.12/site-packages (from gitpython!=3.1.19,<4,>=3.0.7->streamlit==1.40.2->-r /workspaces/milestone-project-mildew-detection-in-cherry-leaves/requirements.txt (line 7)) (4.0.12)\n",
            "Requirement already satisfied: smmap<6,>=3.0.1 in /home/cistudent/.local/lib/python3.12/site-packages (from gitdb<5,>=4.0.1->gitpython!=3.1.19,<4,>=3.0.7->streamlit==1.40.2->-r /workspaces/milestone-project-mildew-detection-in-cherry-leaves/requirements.txt (line 7)) (5.0.2)\n",
            "Requirement already satisfied: charset-normalizer<4,>=2 in /home/cistudent/.pyenv/versions/3.12.1/lib/python3.12/site-packages (from requests<3,>=2.27->streamlit==1.40.2->-r /workspaces/milestone-project-mildew-detection-in-cherry-leaves/requirements.txt (line 7)) (3.4.0)\n",
            "Requirement already satisfied: idna<4,>=2.5 in /home/cistudent/.pyenv/versions/3.12.1/lib/python3.12/site-packages (from requests<3,>=2.27->streamlit==1.40.2->-r /workspaces/milestone-project-mildew-detection-in-cherry-leaves/requirements.txt (line 7)) (3.10)\n",
            "Requirement already satisfied: urllib3<3,>=1.21.1 in /home/cistudent/.pyenv/versions/3.12.1/lib/python3.12/site-packages (from requests<3,>=2.27->streamlit==1.40.2->-r /workspaces/milestone-project-mildew-detection-in-cherry-leaves/requirements.txt (line 7)) (2.2.3)\n",
            "Requirement already satisfied: certifi>=2017.4.17 in /home/cistudent/.pyenv/versions/3.12.1/lib/python3.12/site-packages (from requests<3,>=2.27->streamlit==1.40.2->-r /workspaces/milestone-project-mildew-detection-in-cherry-leaves/requirements.txt (line 7)) (2024.12.14)\n",
            "Requirement already satisfied: markdown-it-py>=2.2.0 in /home/cistudent/.pyenv/versions/3.12.1/lib/python3.12/site-packages (from rich<14,>=10.14.0->streamlit==1.40.2->-r /workspaces/milestone-project-mildew-detection-in-cherry-leaves/requirements.txt (line 7)) (3.0.0)\n",
            "Requirement already satisfied: pygments<3.0.0,>=2.13.0 in /home/cistudent/.pyenv/versions/3.12.1/lib/python3.12/site-packages (from rich<14,>=10.14.0->streamlit==1.40.2->-r /workspaces/milestone-project-mildew-detection-in-cherry-leaves/requirements.txt (line 7)) (2.18.0)\n",
            "Requirement already satisfied: markdown>=2.6.8 in /home/cistudent/.local/lib/python3.12/site-packages (from tensorboard<2.17,>=2.16->tensorflow-cpu==2.16.1->-r /workspaces/milestone-project-mildew-detection-in-cherry-leaves/requirements.txt (line 10)) (3.8)\n",
            "Requirement already satisfied: tensorboard-data-server<0.8.0,>=0.7.0 in /home/cistudent/.local/lib/python3.12/site-packages (from tensorboard<2.17,>=2.16->tensorflow-cpu==2.16.1->-r /workspaces/milestone-project-mildew-detection-in-cherry-leaves/requirements.txt (line 10)) (0.7.2)\n",
            "Requirement already satisfied: werkzeug>=1.0.1 in /home/cistudent/.local/lib/python3.12/site-packages (from tensorboard<2.17,>=2.16->tensorflow-cpu==2.16.1->-r /workspaces/milestone-project-mildew-detection-in-cherry-leaves/requirements.txt (line 10)) (3.1.3)\n",
            "Requirement already satisfied: namex in /home/cistudent/.local/lib/python3.12/site-packages (from keras>=3.0.0->-r /workspaces/milestone-project-mildew-detection-in-cherry-leaves/requirements.txt (line 11)) (0.0.9)\n",
            "Requirement already satisfied: optree in /home/cistudent/.local/lib/python3.12/site-packages (from keras>=3.0.0->-r /workspaces/milestone-project-mildew-detection-in-cherry-leaves/requirements.txt (line 11)) (0.15.0)\n",
            "Requirement already satisfied: wheel<1.0,>=0.23.0 in /home/cistudent/.pyenv/versions/3.12.1/lib/python3.12/site-packages (from astunparse>=1.6.0->tensorflow-cpu==2.16.1->-r /workspaces/milestone-project-mildew-detection-in-cherry-leaves/requirements.txt (line 10)) (0.45.1)\n",
            "Requirement already satisfied: MarkupSafe>=2.0 in /home/cistudent/.pyenv/versions/3.12.1/lib/python3.12/site-packages (from jinja2->altair<6,>=4.0->streamlit==1.40.2->-r /workspaces/milestone-project-mildew-detection-in-cherry-leaves/requirements.txt (line 7)) (3.0.2)\n",
            "Requirement already satisfied: attrs>=22.2.0 in /home/cistudent/.pyenv/versions/3.12.1/lib/python3.12/site-packages (from jsonschema>=3.0->altair<6,>=4.0->streamlit==1.40.2->-r /workspaces/milestone-project-mildew-detection-in-cherry-leaves/requirements.txt (line 7)) (24.3.0)\n",
            "Requirement already satisfied: jsonschema-specifications>=2023.03.6 in /home/cistudent/.pyenv/versions/3.12.1/lib/python3.12/site-packages (from jsonschema>=3.0->altair<6,>=4.0->streamlit==1.40.2->-r /workspaces/milestone-project-mildew-detection-in-cherry-leaves/requirements.txt (line 7)) (2024.10.1)\n",
            "Requirement already satisfied: referencing>=0.28.4 in /home/cistudent/.pyenv/versions/3.12.1/lib/python3.12/site-packages (from jsonschema>=3.0->altair<6,>=4.0->streamlit==1.40.2->-r /workspaces/milestone-project-mildew-detection-in-cherry-leaves/requirements.txt (line 7)) (0.35.1)\n",
            "Requirement already satisfied: rpds-py>=0.7.1 in /home/cistudent/.pyenv/versions/3.12.1/lib/python3.12/site-packages (from jsonschema>=3.0->altair<6,>=4.0->streamlit==1.40.2->-r /workspaces/milestone-project-mildew-detection-in-cherry-leaves/requirements.txt (line 7)) (0.22.3)\n",
            "Requirement already satisfied: mdurl~=0.1 in /home/cistudent/.pyenv/versions/3.12.1/lib/python3.12/site-packages (from markdown-it-py>=2.2.0->rich<14,>=10.14.0->streamlit==1.40.2->-r /workspaces/milestone-project-mildew-detection-in-cherry-leaves/requirements.txt (line 7)) (0.1.2)\n",
            "Note: you may need to restart the kernel to use updated packages.\n"
          ]
        }
      ],
      "source": [
        "%pip install -r /workspaces/milestone-project-mildew-detection-in-cherry-leaves/requirements.txt"
      ]
    },
    {
      "cell_type": "code",
      "execution_count": 2,
      "metadata": {},
      "outputs": [],
      "source": [
        "import numpy\n",
        "import os"
      ]
    },
    {
      "cell_type": "markdown",
      "metadata": {
        "id": "cqP-UeN-z3i2"
      },
      "source": [
        "# Change working directory"
      ]
    },
    {
      "cell_type": "markdown",
      "metadata": {
        "id": "aOGIGS-uz3i2"
      },
      "source": [
        "We need to change the working directory from its current folder to its parent folder\n",
        "* We access the current directory with os.getcwd()"
      ]
    },
    {
      "cell_type": "code",
      "execution_count": 3,
      "metadata": {
        "id": "wZfF_j-Bz3i4",
        "outputId": "66943449-1436-4c3d-85c7-b85f9f78349b"
      },
      "outputs": [
        {
          "data": {
            "text/plain": [
              "'/workspaces/milestone-project-mildew-detection-in-cherry-leaves/jupyter_notebooks'"
            ]
          },
          "execution_count": 3,
          "metadata": {},
          "output_type": "execute_result"
        }
      ],
      "source": [
        "import os\n",
        "current_dir = os.getcwd()\n",
        "current_dir"
      ]
    },
    {
      "cell_type": "markdown",
      "metadata": {
        "id": "9MWW8E7lz3i7"
      },
      "source": [
        "We want to make the parent of the current directory the new current directory\n",
        "* os.path.dirname() gets the parent directory\n",
        "* os.chir() defines the new current directory"
      ]
    },
    {
      "cell_type": "code",
      "execution_count": 4,
      "metadata": {
        "id": "TwHsQRWjz3i9",
        "outputId": "86849db3-cd2f-4cc5-ebb8-2d0caafa1a2c"
      },
      "outputs": [
        {
          "name": "stdout",
          "output_type": "stream",
          "text": [
            "You set a new current directory\n"
          ]
        }
      ],
      "source": [
        "os.chdir(os.path.dirname(current_dir))\n",
        "print(\"You set a new current directory\")"
      ]
    },
    {
      "cell_type": "markdown",
      "metadata": {
        "id": "M_xPk_Ijz3i-"
      },
      "source": [
        "Confirm the new current directory"
      ]
    },
    {
      "cell_type": "code",
      "execution_count": 5,
      "metadata": {
        "id": "vz3S-_kjz3jA",
        "outputId": "00b79ae4-75d0-4a96-d193-ac9ef9847ea2"
      },
      "outputs": [
        {
          "data": {
            "text/plain": [
              "'/workspaces/milestone-project-mildew-detection-in-cherry-leaves'"
            ]
          },
          "execution_count": 5,
          "metadata": {},
          "output_type": "execute_result"
        }
      ],
      "source": [
        "current_dir = os.getcwd()\n",
        "current_dir"
      ]
    },
    {
      "cell_type": "markdown",
      "metadata": {
        "id": "-mavJ8DibrcQ"
      },
      "source": [
        "# Install Kaggel"
      ]
    },
    {
      "cell_type": "code",
      "execution_count": 6,
      "metadata": {},
      "outputs": [
        {
          "name": "stdout",
          "output_type": "stream",
          "text": [
            "Requirement already satisfied: kaggle==1.5.12 in /home/cistudent/.local/lib/python3.12/site-packages (1.5.12)\n",
            "Requirement already satisfied: six>=1.10 in /home/cistudent/.pyenv/versions/3.12.1/lib/python3.12/site-packages (from kaggle==1.5.12) (1.17.0)\n",
            "Requirement already satisfied: certifi in /home/cistudent/.pyenv/versions/3.12.1/lib/python3.12/site-packages (from kaggle==1.5.12) (2024.12.14)\n",
            "Requirement already satisfied: python-dateutil in /home/cistudent/.pyenv/versions/3.12.1/lib/python3.12/site-packages (from kaggle==1.5.12) (2.9.0.post0)\n",
            "Requirement already satisfied: requests in /home/cistudent/.pyenv/versions/3.12.1/lib/python3.12/site-packages (from kaggle==1.5.12) (2.32.3)\n",
            "Requirement already satisfied: tqdm in /home/cistudent/.local/lib/python3.12/site-packages (from kaggle==1.5.12) (4.67.1)\n",
            "Requirement already satisfied: python-slugify in /home/cistudent/.local/lib/python3.12/site-packages (from kaggle==1.5.12) (8.0.4)\n",
            "Requirement already satisfied: urllib3 in /home/cistudent/.pyenv/versions/3.12.1/lib/python3.12/site-packages (from kaggle==1.5.12) (2.2.3)\n",
            "Requirement already satisfied: text-unidecode>=1.3 in /home/cistudent/.local/lib/python3.12/site-packages (from python-slugify->kaggle==1.5.12) (1.3)\n",
            "Requirement already satisfied: charset-normalizer<4,>=2 in /home/cistudent/.pyenv/versions/3.12.1/lib/python3.12/site-packages (from requests->kaggle==1.5.12) (3.4.0)\n",
            "Requirement already satisfied: idna<4,>=2.5 in /home/cistudent/.pyenv/versions/3.12.1/lib/python3.12/site-packages (from requests->kaggle==1.5.12) (3.10)\n",
            "Note: you may need to restart the kernel to use updated packages.\n"
          ]
        }
      ],
      "source": [
        "# install kaggle package\n",
        "%pip install kaggle==1.5.12"
      ]
    },
    {
      "cell_type": "markdown",
      "metadata": {
        "id": "ZY3l0-AxO93d"
      },
      "source": [
        "---"
      ]
    },
    {
      "cell_type": "markdown",
      "metadata": {},
      "source": [
        "Run the cell below **to change the Kaggle configuration directory to the current working directory and set permissions for the Kaggle authentication JSON**."
      ]
    },
    {
      "cell_type": "code",
      "execution_count": 7,
      "metadata": {},
      "outputs": [],
      "source": [
        "os.environ['KAGGLE_CONFIG_DIR'] = os.getcwd()\n",
        "! chmod 600 kaggle.json"
      ]
    },
    {
      "cell_type": "markdown",
      "metadata": {},
      "source": [
        "* Get the dataset path from the Kaggle URL\n",
        "* Set destination folder"
      ]
    },
    {
      "cell_type": "markdown",
      "metadata": {},
      "source": [
        "Set the Kaggle Dataset and Download it."
      ]
    },
    {
      "cell_type": "code",
      "execution_count": 8,
      "metadata": {},
      "outputs": [
        {
          "name": "stdout",
          "output_type": "stream",
          "text": [
            "Downloading cherry-leaves.zip to inputs/cherry-leaves\n",
            " 96%|████████████████████████████████████▌ | 53.0M/55.0M [00:02<00:00, 39.2MB/s]\n",
            "100%|██████████████████████████████████████| 55.0M/55.0M [00:02<00:00, 22.9MB/s]\n"
          ]
        }
      ],
      "source": [
        "KaggleDatasetPath = \"codeinstitute/cherry-leaves\"\n",
        "DestinationFolder = \"inputs/cherry-leaves\"   \n",
        "! kaggle datasets download -d {KaggleDatasetPath} -p {DestinationFolder}"
      ]
    },
    {
      "cell_type": "markdown",
      "metadata": {},
      "source": [
        "Unzip the downloaded file, and delete the zip file."
      ]
    },
    {
      "cell_type": "code",
      "execution_count": 10,
      "metadata": {},
      "outputs": [],
      "source": [
        "import zipfile\n",
        "with zipfile.ZipFile(DestinationFolder + '/cherry-leaves.zip', 'r') as zip_ref:\n",
        "    zip_ref.extractall(DestinationFolder)\n",
        "\n",
        "os.remove(DestinationFolder + '/cherry-leaves.zip')"
      ]
    },
    {
      "cell_type": "markdown",
      "metadata": {},
      "source": [
        "---"
      ]
    },
    {
      "cell_type": "markdown",
      "metadata": {},
      "source": [
        "NOTE"
      ]
    },
    {
      "cell_type": "markdown",
      "metadata": {},
      "source": [
        "* You may add as many sections as you want, as long as it supports your project workflow.\n",
        "* All notebook's cells should be run top-down (you can't create a dynamic wherein a given point you need to go back to a previous cell to execute some task, like go back to a previous cell and refresh a variable content)"
      ]
    },
    {
      "cell_type": "markdown",
      "metadata": {},
      "source": [
        "---"
      ]
    },
    {
      "cell_type": "markdown",
      "metadata": {},
      "source": [
        "# Data Preparation"
      ]
    },
    {
      "cell_type": "markdown",
      "metadata": {},
      "source": [
        "---"
      ]
    },
    {
      "cell_type": "markdown",
      "metadata": {},
      "source": [
        "## Data cleaning"
      ]
    },
    {
      "cell_type": "markdown",
      "metadata": {},
      "source": [
        "### Check and remove non-image files"
      ]
    },
    {
      "cell_type": "code",
      "execution_count": 18,
      "metadata": {},
      "outputs": [],
      "source": [
        "def remove_non_image_file(my_data_dir):\n",
        "    image_extension = ('.png', '.jpg', '.jpeg')\n",
        "    folders = os.listdir(my_data_dir)\n",
        "    for folder in folders:\n",
        "        files = os.listdir(my_data_dir + '/' + folder)\n",
        "        # print(files)\n",
        "        i = []\n",
        "        j = []\n",
        "        for given_file in files:\n",
        "            file_location = os.path.join(my_data_dir, folder, given_file)\n",
        "            if os.path.isfile(file_location):\n",
        "                if not given_file.lower().endswith(image_extension):\n",
        "                    os.remove(file_location)  # remove non image file\n",
        "                i.append(1)\n",
        "            else:\n",
        "                j.append(1)\n",
        "                pass\n",
        "        print(f\"Folder: {folder} - has image file\", len(j))\n",
        "        print(f\"Folder: {folder} - has non-image file\", len(i))\n",
        "                "
      ]
    },
    {
      "cell_type": "code",
      "execution_count": 19,
      "metadata": {},
      "outputs": [
        {
          "name": "stdout",
          "output_type": "stream",
          "text": [
            "Folder: validation - has image file 2\n",
            "Folder: validation - has non-image file 0\n",
            "Folder: train - has image file 2\n",
            "Folder: train - has non-image file 0\n",
            "Folder: healthy - has image file 0\n",
            "Folder: healthy - has non-image file 2104\n",
            "Folder: powdery_mildew - has image file 0\n",
            "Folder: powdery_mildew - has non-image file 2104\n",
            "Folder: test - has image file 2\n",
            "Folder: test - has non-image file 0\n"
          ]
        }
      ],
      "source": [
        "remove_non_image_file(my_data_dir='inputs/cherry-leaves/cherry-leaves')"
      ]
    },
    {
      "cell_type": "markdown",
      "metadata": {},
      "source": [
        "## Split train validation train set"
      ]
    },
    {
      "cell_type": "code",
      "execution_count": 20,
      "metadata": {},
      "outputs": [],
      "source": [
        "import os\n",
        "import shutil\n",
        "import random\n",
        "import joblib\n",
        "\n",
        "\n",
        "def split_train_validation_test_images(my_data_dir, train_set_ratio, validation_set_ratio, test_set_ratio):\n",
        "\n",
        "    if train_set_ratio + validation_set_ratio + test_set_ratio != 1.0:\n",
        "        print(\"train_set_ratio + validation_set_ratio + test_set_ratio should sum to 1.0\")\n",
        "        return\n",
        "\n",
        "    # gets classes labels\n",
        "    labels = os.listdir(my_data_dir)  # it should get only the folder name\n",
        "    if 'test' in labels:\n",
        "        pass\n",
        "    else:\n",
        "        # create train, test folders with classes labels sub-folder\n",
        "        for folder in ['train', 'validation', 'test']:\n",
        "            for label in labels:\n",
        "                os.makedirs(name=my_data_dir + '/' + folder + '/' + label)\n",
        "\n",
        "        for label in labels:\n",
        "\n",
        "            files = os.listdir(my_data_dir + '/' + label)\n",
        "            random.shuffle(files)\n",
        "\n",
        "            train_set_files_qty = int(len(files) * train_set_ratio)\n",
        "            validation_set_files_qty = int(len(files) * validation_set_ratio)\n",
        "\n",
        "            count = 1\n",
        "            for file_name in files:\n",
        "                if count <= train_set_files_qty:\n",
        "                    # move a given file to the train set\n",
        "                    shutil.move(my_data_dir + '/' + label + '/' + file_name,\n",
        "                                my_data_dir + '/train/' + label + '/' + file_name)\n",
        "\n",
        "                elif count <= (train_set_files_qty + validation_set_files_qty):\n",
        "                    # move a given file to the validation set\n",
        "                    shutil.move(my_data_dir + '/' + label + '/' + file_name,\n",
        "                                my_data_dir + '/validation/' + label + '/' + file_name)\n",
        "\n",
        "                else:\n",
        "                    # move given file to test set\n",
        "                    shutil.move(my_data_dir + '/' + label + '/' + file_name,\n",
        "                                my_data_dir + '/test/' + label + '/' + file_name)\n",
        "\n",
        "                count += 1\n",
        "\n",
        "            os.rmdir(my_data_dir + '/' + label)"
      ]
    },
    {
      "cell_type": "markdown",
      "metadata": {},
      "source": [
        "Conventionally,\n",
        "* The training set is divided into a 0.70 ratio of data.\n",
        "* The validation set is divided into a 0.10 ratio of data.\n",
        "* The test set is divided into a 0.20 ratio of data."
      ]
    },
    {
      "cell_type": "code",
      "execution_count": 21,
      "metadata": {},
      "outputs": [],
      "source": [
        "split_train_validation_test_images(my_data_dir=f\"inputs/cherry-leaves/cherry-leaves\",\n",
        "                                   train_set_ratio=0.7,\n",
        "                                   validation_set_ratio=0.1,\n",
        "                                   test_set_ratio=0.2\n",
        "                                   )"
      ]
    }
  ],
  "metadata": {
    "accelerator": "GPU",
    "colab": {
      "name": "Data Practitioner Jupyter Notebook.ipynb",
      "provenance": [],
      "toc_visible": true
    },
    "kernelspec": {
      "display_name": "Python 3",
      "language": "python",
      "name": "python3"
    },
    "language_info": {
      "codemirror_mode": {
        "name": "ipython",
        "version": 3
      },
      "file_extension": ".py",
      "mimetype": "text/x-python",
      "name": "python",
      "nbconvert_exporter": "python",
      "pygments_lexer": "ipython3",
      "version": "3.12.1"
    },
    "orig_nbformat": 2
  },
  "nbformat": 4,
  "nbformat_minor": 2
}
